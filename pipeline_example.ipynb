{
 "cells": [
  {
   "cell_type": "markdown",
   "id": "bd320d06",
   "metadata": {},
   "source": [
    "### Pipeline\n",
    "\n",
    "1) Генерируем картинки\n",
    "2) Генирируем тексты\n",
    "3) Объединяем картинки и тексты с помощью replicate\n",
    "4) Объединяем картинки в видео"
   ]
  },
  {
   "cell_type": "code",
   "execution_count": 1,
   "id": "0a0d5165",
   "metadata": {},
   "outputs": [],
   "source": [
    "from PIL import Image, ImageDraw, ImageFont\n",
    "import requests\n",
    "import json\n",
    "import replicate\n",
    "import os\n",
    "import time\n",
    "import hashlib"
   ]
  },
  {
   "cell_type": "code",
   "execution_count": 9,
   "id": "098c3710",
   "metadata": {},
   "outputs": [],
   "source": [
    "# Images\n",
    "image_filenames = [\"image_outputs\\\\3_horses.jpg\", \"image_outputs\\\\3_horses_2.jpeg\", \"image_outputs\\\\cat_in_sweater.png\", \"image_outputs\\\\christmas_tree.jpg\"]"
   ]
  },
  {
   "cell_type": "code",
   "execution_count": 3,
   "id": "00446740",
   "metadata": {},
   "outputs": [],
   "source": [
    "# Texts\n",
    "\n",
    "def generate_text(text: str, \n",
    "                  font_name: str = 'morninggloryandcyrillic.otf', \n",
    "                  backgroud_name: str = 'empty_background.jpg',\n",
    "                  output_dir: str = 'image_outputs',\n",
    "                  font_size: int = 112, \n",
    "                  text_color: tuple[int, int, int] = (200, 29, 156),\n",
    "                  ) -> str:\n",
    "    \"\"\"\n",
    "    Generate specified text with empty background. \n",
    "    font_name is the name of a font file located in the working directory or in C\\\\Windows\\\\Fonts.\n",
    "    \"\"\"\n",
    "    # empty background\n",
    "    image = Image.open(backgroud_name)\n",
    "    image = image.convert('RGB')\n",
    "\n",
    "    # Initialize drawing context\n",
    "    draw = ImageDraw.Draw(image)\n",
    "\n",
    "    # Configure text properties\n",
    "    font = ImageFont.truetype(font_name, font_size)  # load Cyrillic-capable font\n",
    "\n",
    "    # Calculate text position (centered)\n",
    "    text_bbox = draw.textbbox((0, 0), text, font=font)\n",
    "    text_width = text_bbox[2] - text_bbox[0]\n",
    "    text_height = text_bbox[3] - text_bbox[1]\n",
    "    x = (image.width - text_width) / 2\n",
    "    y = (image.height - text_height) / 2\n",
    "\n",
    "    # Draw text on image\n",
    "    draw.text((x, y), text, fill=text_color, font=font)\n",
    "\n",
    "    # Save the image\n",
    "    time_str = str(time.time_ns())\n",
    "    file_name = hashlib.md5(time_str.encode()).hexdigest()\n",
    "    file_path = os.path.join(output_dir, str(file_name) + '.png')\n",
    "    image.save(file_path)\n",
    "\n",
    "    return file_path"
   ]
  },
  {
   "cell_type": "code",
   "execution_count": 4,
   "id": "1fb42da7",
   "metadata": {},
   "outputs": [],
   "source": [
    "# Making empty images with text\n",
    "texts = ['С Новым годом!', \"Пусть ваши мечты сбываются\", \"В год кота к вам\\nобязательно прибудет счастье\", \"Увидимся в 2026!\"]\n",
    "text_filenames = [generate_text(t, font_size=int(120 - 1.2*len(t))) for t in texts]\n"
   ]
  },
  {
   "cell_type": "code",
   "execution_count": 12,
   "id": "6761288f",
   "metadata": {},
   "outputs": [],
   "source": [
    "COMBINATION_PROMPT = \"Add an inscription from the second image to the top or to the bottom of the first image. Do not add any extra text \" \\\n",
    "\"that is not on my images. You can move the text freely to the best location. The result should look like a card my grandmother might send me.\"\n",
    "\n",
    "\n",
    "def add_text_to_image(text_image_path: str, \n",
    "                      main_image_path: str, \n",
    "                      output_dir: str = 'image_outputs',\n",
    "                      output_size: str = '1K', \n",
    "                      aspect_ratio: str = '4:3',\n",
    "                      save_locally: bool = True) -> str:\n",
    "    \"\"\"\n",
    "    Combine one main image with one text image.\n",
    "    Must have REPLICATE_API_TOKEN=... in the .env\n",
    "    \"\"\"\n",
    "    #TODO: make async\n",
    "\n",
    "    # Upload images to replicate to be able to use them\n",
    "    with open(text_image_path, \"rb\") as file:\n",
    "        text_image = replicate.files.create(file)\n",
    "    with open(main_image_path, 'rb') as file:\n",
    "        generated_image = replicate.files.create(file)\n",
    "\n",
    "\n",
    "    input = {\n",
    "        \"size\": output_size,\n",
    "        \"prompt\": COMBINATION_PROMPT, \n",
    "        \"aspect_ratio\": aspect_ratio,\n",
    "        \"image_input\": [generated_image.urls['get'], text_image.urls['get']]\n",
    "    }\n",
    "\n",
    "    output = replicate.run(\n",
    "        \"bytedance/seedream-4\",\n",
    "        input=input\n",
    "    )\n",
    "\n",
    "    # To write the files to disk:\n",
    "    if save_locally:\n",
    "        for index, item in enumerate(output):\n",
    "            time_str = str(time.time_ns())\n",
    "            file_name = hashlib.md5(time_str.encode()).hexdigest()\n",
    "            with open(os.path.join(output_dir, str(file_name) + '.jpg'), \"wb\") as file:\n",
    "                file.write(item.read())\n",
    "            \n",
    "    return str(output[0])\n",
    "\n"
   ]
  },
  {
   "cell_type": "code",
   "execution_count": 13,
   "id": "649372c5",
   "metadata": {},
   "outputs": [],
   "source": [
    "images_with_text = [add_text_to_image(text_filenames[i], image_filenames[i]) for i in range(len(text_filenames))]"
   ]
  },
  {
   "cell_type": "code",
   "execution_count": null,
   "id": "850af8fd",
   "metadata": {},
   "outputs": [],
   "source": [
    "images_with_text"
   ]
  },
  {
   "cell_type": "code",
   "execution_count": 4,
   "id": "effb505b",
   "metadata": {},
   "outputs": [
    {
     "name": "stdout",
     "output_type": "stream",
     "text": [
      "201 {\"success\":true,\"message\":\"Created\",\"response\":{\"message\":\"Render Successfully Queued\",\"id\":\"5d84a93b-11af-430b-8a84-6f37f1fe4820\"}}\n"
     ]
    }
   ],
   "source": [
    "# Combining images into a video\n",
    "API_KEY = os.environ['SHOT_STACK_API_TOKEN']\n",
    "\n",
    "url = \"https://api.shotstack.io/stage/render\"\n",
    "headers = {\n",
    "    \"x-api-key\": API_KEY,\n",
    "    \"Content-Type\": \"application/json\"\n",
    "}\n",
    "\n",
    "payload = {\n",
    "    \"timeline\": {\n",
    "        \"tracks\": [\n",
    "            {\n",
    "                \"clips\": [\n",
    "                    {\n",
    "                        \"asset\": {\"type\": \"image\", \"src\": images_with_text[0]},\n",
    "                        \"start\": 0,\n",
    "                        \"length\": 3,\n",
    "                        \"transition\": {\"out\": \"slideRight\"}\n",
    "                    },\n",
    "                    {\n",
    "                        \"asset\": {\"type\": \"image\", \"src\": images_with_text[1]},\n",
    "                        \"start\": 3,\n",
    "                        \"length\": 3,\n",
    "                        \"transition\": {\"in\": \"wipeLeft\", \"out\": \"fade\"}\n",
    "                    },\n",
    "                    {\n",
    "                        \"asset\": {\"type\": \"image\", \"src\": images_with_text[2]},\n",
    "                        \"start\": 6,\n",
    "                        \"length\": 3,\n",
    "                        \"transition\": {\"in\": \"slideUp\", \"out\": \"slideDown\"}\n",
    "                    },\n",
    "                    {\n",
    "                        \"asset\": {\"type\": \"image\", \"src\": images_with_text[3]},\n",
    "                        \"start\": 9,\n",
    "                        \"length\": 3,\n",
    "                        \"transition\": {\"in\": \"fade\"}\n",
    "                    }\n",
    "                ]\n",
    "            }\n",
    "        ]\n",
    "    },\n",
    "    \"output\": {\"format\": \"mp4\", \"resolution\": \"hd\", \"aspectRatio\": \"4:3\"}\n",
    "}\n",
    "\n",
    "response = requests.post(url, headers=headers, data=json.dumps(payload))\n",
    "print(response.status_code, response.text)\n"
   ]
  },
  {
   "cell_type": "code",
   "execution_count": 5,
   "id": "0f5f5819",
   "metadata": {},
   "outputs": [
    {
     "name": "stdout",
     "output_type": "stream",
     "text": [
      "5d84a93b-11af-430b-8a84-6f37f1fe4820\n",
      "{'success': True, 'message': 'OK', 'response': {'id': '5d84a93b-11af-430b-8a84-6f37f1fe4820', 'owner': '1mj5p7ly7k', 'plan': 'freeTrial', 'status': 'done', 'error': '', 'duration': 12, 'billable': 12, 'renderTime': 3751.72, 'url': 'https://shotstack-api-stage-output.s3-ap-southeast-2.amazonaws.com/1mj5p7ly7k/5d84a93b-11af-430b-8a84-6f37f1fe4820.mp4', 'poster': None, 'thumbnail': None, 'data': {'output': {'format': 'mp4', 'resolution': 'hd', 'aspectRatio': '4:3'}, 'timeline': {'tracks': [{'clips': [{'start': 0, 'length': 3, 'asset': {'type': 'image', 'src': 'https://replicate.delivery/xezq/IobweNx5pWWzRyQSPhujOr5BzSg2Z6ngOcRH9xKKmmRP1VuKA/tmpnvizjhgl.jpg'}, 'transition': {'out': 'slideRight'}}, {'start': 3, 'length': 3, 'asset': {'type': 'image', 'src': 'https://replicate.delivery/xezq/UXYeYnPZfFjYP0erhXgZRTtBbzeHIf4OnECi4foVn8Hau6KXF/tmpkyhsyefb.jpg'}, 'transition': {'in': 'wipeLeft', 'out': 'fade'}}, {'start': 6, 'length': 3, 'asset': {'type': 'image', 'src': 'https://replicate.delivery/xezq/ApMJdc8flZWfKUpzxMe94rpnIkhiAyvy8WolkZlc1byuWX5qA/tmpkey4kgn6.jpg'}, 'transition': {'in': 'slideUp', 'out': 'slideDown'}}, {'start': 9, 'length': 3, 'asset': {'type': 'image', 'src': 'https://replicate.delivery/xezq/gVnnm2elP9XlLiIfvxk71XbI6O1lJqfetV71W3eRUmyPe6KXF/tmpl6phl_rs.jpg'}, 'transition': {'in': 'fade'}}]}]}}, 'created': '2025-10-07T15:44:47.401Z', 'updated': '2025-10-07T15:44:52.172Z'}}\n",
      "Video url: https://shotstack-api-stage-output.s3-ap-southeast-2.amazonaws.com/1mj5p7ly7k/5d84a93b-11af-430b-8a84-6f37f1fe4820.mp4\n"
     ]
    }
   ],
   "source": [
    "# Wait a bit before running\n",
    "RENDER_ID = json.loads(response.text)['response']['id']\n",
    "print(RENDER_ID)\n",
    "url = \"https://api.shotstack.io/stage/render\"\n",
    "r = requests.get(url + f\"/{RENDER_ID}\", headers=headers)\n",
    "\n",
    "print(r.json())\n",
    "print(\"Video url:\", r.json()['response']['url'])"
   ]
  }
 ],
 "metadata": {
  "kernelspec": {
   "display_name": ".venv",
   "language": "python",
   "name": "python3"
  },
  "language_info": {
   "codemirror_mode": {
    "name": "ipython",
    "version": 3
   },
   "file_extension": ".py",
   "mimetype": "text/x-python",
   "name": "python",
   "nbconvert_exporter": "python",
   "pygments_lexer": "ipython3",
   "version": "3.12.10"
  }
 },
 "nbformat": 4,
 "nbformat_minor": 5
}
