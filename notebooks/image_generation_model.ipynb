{
 "cells": [
  {
   "cell_type": "code",
   "execution_count": null,
   "id": "6d2b5c4f",
   "metadata": {},
   "outputs": [],
   "source": [
    "!pip install -q diffusers==0.31.0 transformers accelerate safetensors torch torchvision\n"
   ]
  },
  {
   "cell_type": "code",
   "execution_count": null,
   "id": "dc8d94a0",
   "metadata": {},
   "outputs": [],
   "source": [
    "import torch\n",
    "from diffusers import StableDiffusionXLPipeline\n",
    "\n",
    "pipe = StableDiffusionXLPipeline.from_pretrained(\n",
    "    \"stabilityai/sdxl-turbo\",\n",
    "    torch_dtype=torch.float16,\n",
    "    use_safetensors=True\n",
    ").to(\"cuda\")\n",
    "\n",
    "prompt = \"cute orange kitten smiling and holding a big red heart, surrounded by pink roses and sparkles\"\n",
    "image = pipe(prompt, num_inference_steps=4, guidance_scale=0.5).images[0]\n",
    "image.save(\"image.png\")\n",
    "image\n"
   ]
  }
 ],
 "metadata": {
  "kernelspec": {
   "display_name": "Python 3",
   "language": "python",
   "name": "python3"
  },
  "language_info": {
   "name": "python",
   "version": "3.11.0"
  }
 },
 "nbformat": 4,
 "nbformat_minor": 5
}
