{
 "cells": [
  {
   "cell_type": "markdown",
   "id": "e3623018",
   "metadata": {},
   "source": [
    "We are going to use [this](https://github.com/one-zero-eight/printers) template for the telegram bot, but we want to start working with the **AI ​​part of the project**"
   ]
  },
  {
   "cell_type": "markdown",
   "id": "3623d89f",
   "metadata": {},
   "source": [
    "## Project plans"
   ]
  },
  {
   "cell_type": "markdown",
   "id": "9b21aab3",
   "metadata": {},
   "source": [
    "Our proposed pipeline for the model: generate several images on the topic requested by the user. Add text to them, possibly animate the image, possibly add styling. Then assemble a series of such images into a video sequence with transitions between the images. And add music to this entire video, probably from some set, but so that it fits the video."
   ]
  },
  {
   "cell_type": "markdown",
   "id": "a41b7a0f",
   "metadata": {},
   "source": [
    "At the moment, we need to choose the APIs that we will use. So far, we have collected options:"
   ]
  },
  {
   "cell_type": "markdown",
   "id": "122209ec",
   "metadata": {},
   "source": [
    "### Image generation and processing\n",
    "OpenAI Image API (DALL E 2, DALL E 3, GPT Image) — for generating images with text prompts and subsequent editing of images, including adding text and styling.\n",
    "\n",
    "Text Over Image API from Moesif — fast overlay of text on images with customization of color, size, location.\n",
    "\n",
    "Cloudinary — API for overlaying text on an image and pipeline image transformations (captions, resizing, etc.) based on URL.\n",
    "\n",
    "APITemplate.io — for template generation of images with dynamic text and creation of variations."
   ]
  },
  {
   "cell_type": "markdown",
   "id": "f78a7a63",
   "metadata": {},
   "source": [
    "### Image animation\n",
    "Anime.js — a powerful JavaScript library for animation of web elements, you can animate images and text.\n",
    "\n",
    "Web Animations API — a standardized browser API for animation of DOM elements, suitable for simple and complex animations."
   ]
  },
  {
   "cell_type": "markdown",
   "id": "ba7e064b",
   "metadata": {},
   "source": [
    "### Video creation and editing\n",
    "Wideo API — a platform for automatic creation of video from data, with the possibility of customization and mass production.\n",
    "\n",
    "AI Video API — a service for creating video from text and images with animation, up to 36 seconds long, possibly with music.\n",
    "\n",
    "JSON2Video — API for automated editing and creation of video."
   ]
  },
  {
   "cell_type": "markdown",
   "id": "48edd68e",
   "metadata": {},
   "source": [
    "### Transitions between images (video)\n",
    "View Transitions API — a web standard for smooth animated transitions between DOM states, which can be used on the frontend for smooth transitions between images or video fragments."
   ]
  },
  {
   "cell_type": "markdown",
   "id": "654428fb",
   "metadata": {},
   "source": [
    "### Music overlay\n",
    "FastPix API — allows you to overlay and mix audio tracks, make smooth fades, overlay music over video or change audio.\n",
    "\n",
    "Suno AI Music API — for generating AI music without watermarks, buy tracks or generate for specific parameters, suitable for commercial use.\n",
    "\n",
    "Loudly Music API — a collection of licensed, safe for commercial use music, with the ability to generate and select tracks by parameters."
   ]
  },
  {
   "cell_type": "markdown",
   "id": "92eeca51",
   "metadata": {},
   "source": [
    "The next step of our team is to test the APIs from the list, possibly clarify / change the pipeline"
   ]
  },
  {
   "cell_type": "markdown",
   "id": "ea29bd30",
   "metadata": {},
   "source": []
  }
 ],
 "metadata": {
  "kernelspec": {
   "display_name": "Python 3",
   "language": "python",
   "name": "python3"
  },
  "language_info": {
   "name": "python",
   "version": "3.12.10"
  }
 },
 "nbformat": 4,
 "nbformat_minor": 5
}
